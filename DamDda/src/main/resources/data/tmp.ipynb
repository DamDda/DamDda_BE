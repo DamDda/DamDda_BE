{
 "cells": [
  {
   "cell_type": "code",
   "execution_count": null,
   "metadata": {},
   "outputs": [],
   "source": [
    "url=\"file:///C:/damdda/documents/\"\n",
    "file_list = [\n",
    "    \"[인증]제품 인증 문서\",\n",
    "    \"[진행자]프로젝트 진행자 문서\"\n",
    "]\n",
    "\n",
    "file_list = [\n",
    "    file + str(d) + \".docx\" for d in range(1, 5) for file in file_list]\n",
    "\n",
    "\n",
    "for i in range(1, 71):\n",
    "   for ord, file_name in enumerate(file_list):\n",
    "        print(f\"('{file_name}', {ord+1}, '{url + file_name}', {i}),\")\n"
   ]
  },
  {
   "cell_type": "code",
   "execution_count": null,
   "metadata": {},
   "outputs": [],
   "source": [
    "url=\"file:///C:/damdda/iamges/\"\n",
    "\n",
    "for i in range(1, 71):\n",
    "    file_name = \"project\" + str(i) + \".png\"\n",
    "    print(f\"('{file_name}', {1}, '{url + file_name}', (SELECT id FROM project_image_type WHERE image_type='product'), {i}),\")\n",
    "    print(f\"('{file_name}', {2}, '{url + file_name}', (SELECT id FROM project_image_type WHERE image_type='thumbnail'), {i}),\")\n",
    "    print(f\"('{file_name}', {3}, '{url + file_name}', (SELECT id FROM project_image_type WHERE image_type='description'), {i}),\")"
   ]
  },
  {
   "cell_type": "code",
   "execution_count": null,
   "metadata": {},
   "outputs": [],
   "source": []
  }
 ],
 "metadata": {
  "kernelspec": {
   "display_name": "Python 3",
   "language": "python",
   "name": "python3"
  },
  "language_info": {
   "codemirror_mode": {
    "name": "ipython",
    "version": 3
   },
   "file_extension": ".py",
   "mimetype": "text/x-python",
   "name": "python",
   "nbconvert_exporter": "python",
   "pygments_lexer": "ipython3",
   "version": "3.12.6"
  }
 },
 "nbformat": 4,
 "nbformat_minor": 2
}
